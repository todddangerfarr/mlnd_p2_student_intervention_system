{
 "cells": [
  {
   "cell_type": "markdown",
   "metadata": {},
   "source": [
    "# Project 2: Supervised Learning\n",
    "### Building a Student Intervention System"
   ]
  },
  {
   "cell_type": "markdown",
   "metadata": {},
   "source": [
    "## 1. Classification vs Regression\n",
    "\n",
    "Your goal is to identify students who might need early intervention - which type of supervised machine learning problem is this, classification or regression? Why?"
   ]
  },
  {
   "cell_type": "markdown",
   "metadata": {},
   "source": [
    "## 2. Exploring the Data\n",
    "\n",
    "Let's go ahead and read in the student dataset first.\n",
    "\n",
    "_To execute a code cell, click inside it and press **Shift+Enter**._"
   ]
  },
  {
   "cell_type": "code",
   "execution_count": 5,
   "metadata": {
    "collapsed": false
   },
   "outputs": [],
   "source": [
    "# Import libraries\n",
    "import numpy as np\n",
    "import pandas as pd"
   ]
  },
  {
   "cell_type": "code",
   "execution_count": 6,
   "metadata": {
    "collapsed": false
   },
   "outputs": [
    {
     "name": "stdout",
     "output_type": "stream",
     "text": [
      "Student data read successfully!\n"
     ]
    }
   ],
   "source": [
    "# Read student data\n",
    "student_data = pd.read_csv(\"student-data.csv\")\n",
    "print (\"Student data read successfully!\")\n",
    "# Note: The last column 'passed' is the target/label, all other are feature columns"
   ]
  },
  {
   "cell_type": "markdown",
   "metadata": {},
   "source": [
    "Now, can you find out the following facts about the dataset?\n",
    "- Total number of students\n",
    "- Number of students who passed\n",
    "- Number of students who failed\n",
    "- Graduation rate of the class (%)\n",
    "- Number of features\n",
    "\n",
    "_Use the code block below to compute these values. Instructions/steps are marked using **TODO**s._"
   ]
  },
  {
   "cell_type": "code",
   "execution_count": 7,
   "metadata": {
    "collapsed": false
   },
   "outputs": [
    {
     "name": "stdout",
     "output_type": "stream",
     "text": [
      "Feature Names: ['school' 'sex' 'age' 'address' 'famsize' 'Pstatus' 'Medu' 'Fedu' 'Mjob'\n",
      " 'Fjob' 'reason' 'guardian' 'traveltime' 'studytime' 'failures' 'schoolsup'\n",
      " 'famsup' 'paid' 'activities' 'nursery' 'higher' 'internet' 'romantic'\n",
      " 'famrel' 'freetime' 'goout' 'Dalc' 'Walc' 'health' 'absences' 'passed']\n",
      "\n",
      "Total number of students: 395\n",
      "Number of students who passed: 265\n",
      "Number of students who failed: 130\n",
      "Graduation rate of the class: 67.09%\n",
      "Number of features: 30\n"
     ]
    }
   ],
   "source": [
    "# TODO: Compute desired values - replace each '?' with an appropriate expression/function call\n",
    "feature_names = student_data.columns.values\n",
    "\n",
    "n_students = student_data.shape[0]\n",
    "n_features = student_data.shape[1] - 1 #remove the target column \n",
    "n_passed = student_data.passed.value_counts()['yes']\n",
    "n_failed = student_data.passed.value_counts()['no']\n",
    "grad_rate = (n_passed / float(n_students)) * 100\n",
    "\n",
    "print (\"Feature Names: {}\\n\".format(feature_names))\n",
    "\n",
    "print (\"Total number of students: {}\".format(n_students))\n",
    "print (\"Number of students who passed: {}\".format(n_passed))\n",
    "print (\"Number of students who failed: {}\".format(n_failed))\n",
    "print (\"Graduation rate of the class: {:.2f}%\".format(grad_rate))\n",
    "print (\"Number of features: {}\".format(n_features))"
   ]
  },
  {
   "cell_type": "markdown",
   "metadata": {},
   "source": [
    "## 3. Preparing the Data\n",
    "In this section, we will prepare the data for modeling, training and testing.\n",
    "\n",
    "### Identify feature and target columns\n",
    "It is often the case that the data you obtain contains non-numeric features. This can be a problem, as most machine learning algorithms expect numeric data to perform computations with.\n",
    "\n",
    "Let's first separate our data into feature and target columns, and see if any features are non-numeric.<br/>\n",
    "**Note**: For this dataset, the last column (`'passed'`) is the target or label we are trying to predict."
   ]
  },
  {
   "cell_type": "code",
   "execution_count": 8,
   "metadata": {
    "collapsed": false
   },
   "outputs": [
    {
     "name": "stdout",
     "output_type": "stream",
     "text": [
      "Feature column(s):-\n",
      "['school', 'sex', 'age', 'address', 'famsize', 'Pstatus', 'Medu', 'Fedu', 'Mjob', 'Fjob', 'reason', 'guardian', 'traveltime', 'studytime', 'failures', 'schoolsup', 'famsup', 'paid', 'activities', 'nursery', 'higher', 'internet', 'romantic', 'famrel', 'freetime', 'goout', 'Dalc', 'Walc', 'health', 'absences']\n",
      "Target column: passed\n",
      "\n",
      "Feature values:-\n",
      "  school sex  age address famsize Pstatus  Medu  Fedu     Mjob      Fjob  \\\n",
      "0     GP   F   18       U     GT3       A     4     4  at_home   teacher   \n",
      "1     GP   F   17       U     GT3       T     1     1  at_home     other   \n",
      "2     GP   F   15       U     LE3       T     1     1  at_home     other   \n",
      "3     GP   F   15       U     GT3       T     4     2   health  services   \n",
      "4     GP   F   16       U     GT3       T     3     3    other     other   \n",
      "\n",
      "    ...    higher internet  romantic  famrel  freetime goout Dalc Walc health  \\\n",
      "0   ...       yes       no        no       4         3     4    1    1      3   \n",
      "1   ...       yes      yes        no       5         3     3    1    1      3   \n",
      "2   ...       yes      yes        no       4         3     2    2    3      3   \n",
      "3   ...       yes      yes       yes       3         2     2    1    1      5   \n",
      "4   ...       yes       no        no       4         3     2    1    2      5   \n",
      "\n",
      "  absences  \n",
      "0        6  \n",
      "1        4  \n",
      "2       10  \n",
      "3        2  \n",
      "4        4  \n",
      "\n",
      "[5 rows x 30 columns]\n",
      "0     no\n",
      "1     no\n",
      "2    yes\n",
      "3    yes\n",
      "4    yes\n",
      "Name: passed, dtype: object\n"
     ]
    }
   ],
   "source": [
    "# Extract feature (X) and target (y) columns\n",
    "feature_cols = list(student_data.columns[:-1])  # all columns but last are features\n",
    "target_col = student_data.columns[-1]  # last column is the target/label\n",
    "print (\"Feature column(s):-\\n{}\".format(feature_cols))\n",
    "print (\"Target column: {}\".format(target_col))\n",
    "\n",
    "X_all = student_data[feature_cols]  # feature values for all students\n",
    "y_all = student_data[target_col]  # corresponding targets/labels\n",
    "print (\"\\nFeature values:-\")\n",
    "print (X_all.head()) # print the first 5 rows\n",
    "print (y_all.head())"
   ]
  },
  {
   "cell_type": "markdown",
   "metadata": {},
   "source": [
    "### Preprocess feature columns\n",
    "\n",
    "As you can see, there are several non-numeric columns that need to be converted! Many of them are simply `yes`/`no`, e.g. `internet`. These can be reasonably converted into `1`/`0` (binary) values.\n",
    "\n",
    "Other columns, like `Mjob` and `Fjob`, have more than two values, and are known as _categorical variables_. The recommended way to handle such a column is to create as many columns as possible values (e.g. `Fjob_teacher`, `Fjob_other`, `Fjob_services`, etc.), and assign a `1` to one of them and `0` to all others.\n",
    "\n",
    "These generated columns are sometimes called _dummy variables_, and we will use the [`pandas.get_dummies()`](http://pandas.pydata.org/pandas-docs/stable/generated/pandas.get_dummies.html?highlight=get_dummies#pandas.get_dummies) function to perform this transformation."
   ]
  },
  {
   "cell_type": "code",
   "execution_count": 9,
   "metadata": {
    "collapsed": false
   },
   "outputs": [
    {
     "name": "stdout",
     "output_type": "stream",
     "text": [
      "Processed feature columns (48):-\n",
      "['school_GP', 'school_MS', 'sex_F', 'sex_M', 'age', 'address_R', 'address_U', 'famsize_GT3', 'famsize_LE3', 'Pstatus_A', 'Pstatus_T', 'Medu', 'Fedu', 'Mjob_at_home', 'Mjob_health', 'Mjob_other', 'Mjob_services', 'Mjob_teacher', 'Fjob_at_home', 'Fjob_health', 'Fjob_other', 'Fjob_services', 'Fjob_teacher', 'reason_course', 'reason_home', 'reason_other', 'reason_reputation', 'guardian_father', 'guardian_mother', 'guardian_other', 'traveltime', 'studytime', 'failures', 'schoolsup', 'famsup', 'paid', 'activities', 'nursery', 'higher', 'internet', 'romantic', 'famrel', 'freetime', 'goout', 'Dalc', 'Walc', 'health', 'absences']\n",
      "   school_GP  school_MS  sex_F  sex_M  age  address_R  address_U  famsize_GT3  \\\n",
      "0        1.0        0.0    1.0    0.0   18        0.0        1.0          1.0   \n",
      "1        1.0        0.0    1.0    0.0   17        0.0        1.0          1.0   \n",
      "2        1.0        0.0    1.0    0.0   15        0.0        1.0          0.0   \n",
      "3        1.0        0.0    1.0    0.0   15        0.0        1.0          1.0   \n",
      "4        1.0        0.0    1.0    0.0   16        0.0        1.0          1.0   \n",
      "\n",
      "   famsize_LE3  Pstatus_A    ...     higher  internet  romantic  famrel  \\\n",
      "0          0.0        1.0    ...          1         0         0       4   \n",
      "1          0.0        0.0    ...          1         1         0       5   \n",
      "2          1.0        0.0    ...          1         1         0       4   \n",
      "3          0.0        0.0    ...          1         1         1       3   \n",
      "4          0.0        0.0    ...          1         0         0       4   \n",
      "\n",
      "   freetime  goout  Dalc  Walc  health  absences  \n",
      "0         3      4     1     1       3         6  \n",
      "1         3      3     1     1       3         4  \n",
      "2         3      2     2     3       3        10  \n",
      "3         2      2     1     1       5         2  \n",
      "4         3      2     1     2       5         4  \n",
      "\n",
      "[5 rows x 48 columns]\n"
     ]
    }
   ],
   "source": [
    "# Preprocess feature columns\n",
    "def preprocess_features(X):\n",
    "    outX = pd.DataFrame(index=X.index)  # output dataframe, initially empty\n",
    "\n",
    "    # Check each column\n",
    "    for col, col_data in X.iteritems():\n",
    "        # If data type is non-numeric, try to replace all yes/no values with 1/0\n",
    "        if col_data.dtype == object:\n",
    "            col_data = col_data.replace(['yes', 'no'], [1, 0])\n",
    "        # Note: This should change the data type for yes/no columns to int\n",
    "\n",
    "        # If still non-numeric, convert to one or more dummy variables\n",
    "        if col_data.dtype == object:\n",
    "            col_data = pd.get_dummies(col_data, prefix=col)  # e.g. 'school' => 'school_GP', 'school_MS'\n",
    "\n",
    "        outX = outX.join(col_data)  # collect column(s) in output dataframe\n",
    "\n",
    "    return outX\n",
    "\n",
    "X_all = preprocess_features(X_all)\n",
    "print (\"Processed feature columns ({}):-\\n{}\".format(len(X_all.columns), list(X_all.columns)))\n",
    "print(X_all.head())"
   ]
  },
  {
   "cell_type": "code",
   "execution_count": 18,
   "metadata": {
    "collapsed": false
   },
   "outputs": [
    {
     "data": {
      "image/png": "[encoded data removed]",
      "text/plain": [
       "<matplotlib.figure.Figure at 0x9481c88>"
      ]
     },
     "metadata": {},
     "output_type": "display_data"
    }
   ],
   "source": [
    "#played around with some further data exploration and visualization here. \n",
    "import pylab as pl\n",
    "%matplotlib inline  \n",
    "\n",
    "#ignore future warnings from matplotlib\n",
    "import warnings\n",
    "warnings.filterwarnings('ignore')\n",
    "\n",
    "y_all_binary = y_all.replace(['yes', 'no'], [1, 0])\n",
    "y_train_binary = y_train.replace(['yes', 'no'], [1, 0])\n",
    "\n",
    "pl.figure()\n",
    "pl.title('Feature vs Graduation')\n",
    "pl.scatter(X_all['absences'], y_all_binary, c='r', s=70, alpha=0.3)\n",
    "pl.show()"
   ]
  },
  {
   "cell_type": "markdown",
   "metadata": {},
   "source": [
    "### Split data into training and test sets\n",
    "\n",
    "So far, we have converted all _categorical_ features into numeric values. In this next step, we split the data (both features and corresponding labels) into training and test sets."
   ]
  },
  {
   "cell_type": "code",
   "execution_count": 11,
   "metadata": {
    "collapsed": false
   },
   "outputs": [
    {
     "name": "stdout",
     "output_type": "stream",
     "text": [
      "Training set: 300 samples\n",
      "Test set: 95 samples\n"
     ]
    }
   ],
   "source": [
    "#import train_test_split to do splitting\n",
    "from sklearn.cross_validation import train_test_split\n",
    "\n",
    "# First, decide how many training vs test samples you want\n",
    "num_all = float(student_data.shape[0])  # same as len(student_data)\n",
    "num_train = 300  # about 75% of the data\n",
    "num_test = num_all - num_train\n",
    "\n",
    "# TODO: Then, select features (X) and corresponding labels (y) for the training and test sets\n",
    "# Note: Shuffle the data or randomly select samples to avoid any bias due to ordering in the dataset\n",
    "def split_that_data(X_all, y_all, train_size, test_size):\n",
    "    return train_test_split(X_all, y_all, train_size=train_size, test_size=test_size)\n",
    "\n",
    "X_train, X_test, y_train, y_test = split_that_data(X_all, y_all, (num_train/num_all), (num_test/num_all))\n",
    "\n",
    "print (\"Training set: {} samples\".format(X_train.shape[0]))\n",
    "print (\"Test set: {} samples\".format(X_test.shape[0]))\n",
    "# Note: If you need a validation set, extract it from within training data"
   ]
  },
  {
   "cell_type": "markdown",
   "metadata": {},
   "source": [
    "## 4. Training and Evaluating Models\n",
    "Choose 3 supervised learning models that are available in scikit-learn, and appropriate for this problem. For each model:\n",
    "\n",
    "- What are the general applications of this model? What are its strengths and weaknesses?\n",
    "- Given what you know about the data so far, why did you choose this model to apply?\n",
    "- Fit this model to the training data, try to predict labels (for both training and test sets), and measure the F<sub>1</sub> score. Repeat this process with different training set sizes (100, 200, 300), keeping test set constant.\n",
    "\n",
    "Produce a table showing training time, prediction time, F<sub>1</sub> score on training set and F<sub>1</sub> score on test set, for each training set size.\n",
    "\n",
    "Note: You need to produce 3 such tables - one for each model."
   ]
  },
  {
   "cell_type": "markdown",
   "metadata": {},
   "source": [
    "## Model 1: Support Vector Machine - LinearSVC() \n",
    "<strong>Steps:</strong><br>\n",
    "1. Train the model \n",
    "2. Calculate the F1 Score\n",
    "3. Repeat with training sizes 100, 200 & 300 keeping testing set size = 95 "
   ]
  },
  {
   "cell_type": "code",
   "execution_count": 14,
   "metadata": {
    "collapsed": false
   },
   "outputs": [
    {
     "name": "stdout",
     "output_type": "stream",
     "text": [
      "Training LinearSVC...\n",
      "Done!\n",
      "Training time (secs): 0.118\n",
      "LinearSVC(C=1.0, class_weight=None, dual=True, fit_intercept=True,\n",
      "     intercept_scaling=1, loss='squared_hinge', max_iter=1000,\n",
      "     multi_class='ovr', penalty='l2', random_state=None, tol=0.0001,\n",
      "     verbose=0)\n"
     ]
    }
   ],
   "source": [
    "# Train a model\n",
    "import time\n",
    "from sklearn.metrics import accuracy_score\n",
    "from sklearn import svm\n",
    "    \n",
    "def train_classifier(clf, X_train, y_train):\n",
    "    print (\"Training {}...\".format(clf.__class__.__name__))\n",
    "    start = time.time()\n",
    "    clf.fit(X_train, y_train)\n",
    "    end = time.time()\n",
    "    print (\"Done!\\nTraining time (secs): {:.3f}\".format(end - start))\n",
    "\n",
    "# TODO: Choose a model, import it and instantiate an object\n",
    "clf = svm.LinearSVC()\n",
    "\n",
    "# Fit model to training data\n",
    "train_classifier(clf, X_train, y_train)  # note: using entire training set here\n",
    "print (clf)  # you can inspect the learned model by printing it"
   ]
  },
  {
   "cell_type": "code",
   "execution_count": 16,
   "metadata": {
    "collapsed": false
   },
   "outputs": [
    {
     "name": "stdout",
     "output_type": "stream",
     "text": [
      "Predicting labels for Training Set using LinearSVC...\n",
      "Done!\n",
      "Prediction time for Training Set (secs): 0.005\n",
      "F1 score for training set: 0.828025477707\n"
     ]
    }
   ],
   "source": [
    "# Predict on training set and compute F1 score\n",
    "from sklearn.metrics import f1_score\n",
    "\n",
    "def predict_labels(clf, features, target, is_training=True):\n",
    "    if is_training: \n",
    "        which_prediction = 'Training Set'\n",
    "    else:\n",
    "        which_prediction = 'Testing Set'\n",
    "    print (\"Predicting labels for {} using {}...\".format(which_prediction, clf.__class__.__name__))\n",
    "    start = time.time()\n",
    "    y_pred = clf.predict(features)\n",
    "    end = time.time()\n",
    "    print (\"Done!\\nPrediction time for {} (secs): {:.3f}\".format(which_prediction ,end - start))\n",
    "    return f1_score(target.values, y_pred, pos_label='yes')\n",
    "\n",
    "train_f1_score = predict_labels(clf, X_train, y_train)\n",
    "print (\"F1 score for training set: {}\".format(train_f1_score))"
   ]
  },
  {
   "cell_type": "code",
   "execution_count": 24,
   "metadata": {
    "collapsed": false
   },
   "outputs": [],
   "source": [
    "# Function to train and compute F1 scores for iterative training sizes\n",
    "def iterative_training_sizes(clf, training_sizes, test_size=95):\n",
    "    '''Takes a classifier a list of training sizes and an optional test_size input.\n",
    "       Trains, predicts and prints F1 scores for each training size. '''\n",
    "    \n",
    "    for size in training_sizes:\n",
    "        print(\"The training size is {}.\".format(size))\n",
    "        \n",
    "        #reshuffle and resplit the data \n",
    "        X_train, X_test, y_train, y_test = split_that_data(X_all, y_all, (size/num_all), (test_size/num_all))\n",
    "        \n",
    "        #train the classifier with new data \n",
    "        train_classifier(clf, X_train, y_train)\n",
    "        \n",
    "        #calculate f1 for train and test \n",
    "        f1_train = predict_labels(clf, X_train, y_train)\n",
    "        f1_test = predict_labels(clf, X_test, y_test, False)\n",
    "        \n",
    "        print(\"Fl score for training data: {}\".format(f1_train))  \n",
    "        print(\"F1 score for test data: {}\".format(f1_test)+\"\\n\")"
   ]
  },
  {
   "cell_type": "code",
   "execution_count": 118,
   "metadata": {
    "collapsed": false,
    "scrolled": false
   },
   "outputs": [
    {
     "name": "stdout",
     "output_type": "stream",
     "text": [
      "The training size is 100.\n",
      "Training LinearSVC...\n",
      "Done!\n",
      "Training time (secs): 0.022\n",
      "Predicting labels for Training Set using LinearSVC...\n",
      "Done!\n",
      "Prediction time for Training Set (secs): 0.000\n",
      "Predicting labels for Testing Set using LinearSVC...\n",
      "Done!\n",
      "Prediction time for Testing Set (secs): 0.001\n",
      "Fl score for training data: 0.888888888889\n",
      "F1 score for test data: 0.618181818182\n",
      "\n",
      "The training size is 200.\n",
      "Training LinearSVC...\n",
      "Done!\n",
      "Training time (secs): 0.057\n",
      "Predicting labels for Training Set using LinearSVC...\n",
      "Done!\n",
      "Prediction time for Training Set (secs): 0.000\n",
      "Predicting labels for Testing Set using LinearSVC...\n",
      "Done!\n",
      "Prediction time for Testing Set (secs): 0.001\n",
      "Fl score for training data: 0.796812749004\n",
      "F1 score for test data: 0.697247706422\n",
      "\n",
      "The training size is 300.\n",
      "Training LinearSVC...\n",
      "Done!\n",
      "Training time (secs): 0.077\n",
      "Predicting labels for Training Set using LinearSVC...\n",
      "Done!\n",
      "Prediction time for Training Set (secs): 0.011\n",
      "Predicting labels for Testing Set using LinearSVC...\n",
      "Done!\n",
      "Prediction time for Testing Set (secs): 0.000\n",
      "Fl score for training data: 0.779569892473\n",
      "F1 score for test data: 0.736\n",
      "\n"
     ]
    }
   ],
   "source": [
    "#Repeat the process with SVM with different training sizes 100, 200, 300\n",
    "iterative_training_sizes(clf, [100, 200, 300])"
   ]
  },
  {
   "cell_type": "markdown",
   "metadata": {},
   "source": [
    "## Model 2: Naive Bayes - Guassian NB Classifier\n",
    "<strong>Steps:</strong><br>\n",
    "1. Train the model \n",
    "2. Calculate the F1 Score\n",
    "3. Repeat with training sizes 100, 200 & 300 keeping testing set size = 95 "
   ]
  },
  {
   "cell_type": "code",
   "execution_count": 119,
   "metadata": {
    "collapsed": false
   },
   "outputs": [
    {
     "name": "stdout",
     "output_type": "stream",
     "text": [
      "Training GaussianNB...\n",
      "Done!\n",
      "Training time (secs): 0.005\n",
      "GaussianNB()\n"
     ]
    }
   ],
   "source": [
    "# Train the NB model \n",
    "from sklearn.naive_bayes import GaussianNB\n",
    "clf = GaussianNB() \n",
    "\n",
    "# Fit model to training data\n",
    "train_classifier(clf, X_train, y_train)  # note: using entire training set here\n",
    "print (clf)  # you can inspect the learned model by printing it"
   ]
  },
  {
   "cell_type": "code",
   "execution_count": 120,
   "metadata": {
    "collapsed": false
   },
   "outputs": [
    {
     "name": "stdout",
     "output_type": "stream",
     "text": [
      "Predicting labels for Training Set using GaussianNB...\n",
      "Done!\n",
      "Prediction time for Training Set (secs): 0.002\n",
      "F1 score for training set: 0.820143884892\n"
     ]
    }
   ],
   "source": [
    "#predict training F1 score\n",
    "train_f1_score = predict_labels(clf, X_train, y_train)\n",
    "print (\"F1 score for training set: {}\".format(train_f1_score))"
   ]
  },
  {
   "cell_type": "code",
   "execution_count": 95,
   "metadata": {
    "collapsed": false
   },
   "outputs": [
    {
     "name": "stdout",
     "output_type": "stream",
     "text": [
      "The training size is 100.\n",
      "Training GaussianNB...\n",
      "Done!\n",
      "Training time (secs): 0.003\n",
      "Predicting labels for Training Set using GaussianNB...\n",
      "Done!\n",
      "Prediction time for Training Set (secs): 0.001\n",
      "Predicting labels for Testing Set using GaussianNB...\n",
      "Done!\n",
      "Prediction time for Testing Set (secs): 0.002\n",
      "Fl score for training data: 0.298850574713\n",
      "F1 score for test data: 0.329411764706\n",
      "\n",
      "The training size is 200.\n",
      "Training GaussianNB...\n",
      "Done!\n",
      "Training time (secs): 0.002\n",
      "Predicting labels for Training Set using GaussianNB...\n",
      "Done!\n",
      "Prediction time for Training Set (secs): 0.001\n",
      "Predicting labels for Testing Set using GaussianNB...\n",
      "Done!\n",
      "Prediction time for Testing Set (secs): 0.001\n",
      "Fl score for training data: 0.791208791209\n",
      "F1 score for test data: 0.765625\n",
      "\n",
      "The training size is 300.\n",
      "Training GaussianNB...\n",
      "Done!\n",
      "Training time (secs): 0.003\n",
      "Predicting labels for Training Set using GaussianNB...\n",
      "Done!\n",
      "Prediction time for Training Set (secs): 0.002\n",
      "Predicting labels for Testing Set using GaussianNB...\n",
      "Done!\n",
      "Prediction time for Testing Set (secs): 0.002\n",
      "Fl score for training data: 0.794258373206\n",
      "F1 score for test data: 0.802919708029\n",
      "\n"
     ]
    }
   ],
   "source": [
    "#Repeat the process with SVM with different training sizes 100, 200, 300\n",
    "iterative_training_sizes(clf, [100, 200, 300])"
   ]
  },
  {
   "cell_type": "markdown",
   "metadata": {},
   "source": [
    "## Model 3: K Nearest Neighbors \n",
    "<strong>Steps:</strong><br>\n",
    "1. Train the model \n",
    "2. Calculate the F1 Score\n",
    "3. Repeat with training sizes 100, 200 & 300 keeping testing set size = 95 "
   ]
  },
  {
   "cell_type": "code",
   "execution_count": 96,
   "metadata": {
    "collapsed": false
   },
   "outputs": [
    {
     "name": "stdout",
     "output_type": "stream",
     "text": [
      "Training KNeighborsClassifier...\n",
      "Done!\n",
      "Training time (secs): 0.004\n",
      "KNeighborsClassifier(algorithm='auto', leaf_size=30, metric='minkowski',\n",
      "           metric_params=None, n_jobs=1, n_neighbors=5, p=2,\n",
      "           weights='uniform')\n"
     ]
    }
   ],
   "source": [
    "# Train the KNN model \n",
    "from sklearn.neighbors import KNeighborsClassifier\n",
    "clf = KNeighborsClassifier()\n",
    "\n",
    "# Fit model to training data\n",
    "train_classifier(clf, X_train, y_train)  # note: using entire training set here\n",
    "print (clf)  # you can inspect the learned model by printing it"
   ]
  },
  {
   "cell_type": "code",
   "execution_count": 77,
   "metadata": {
    "collapsed": false
   },
   "outputs": [
    {
     "name": "stdout",
     "output_type": "stream",
     "text": [
      "Predicting labels for Training Set using KNeighborsClassifier...\n",
      "Done!\n",
      "Prediction time for Training Set (secs): 0.025\n",
      "F1 score for training set: 0.862831858407\n"
     ]
    }
   ],
   "source": [
    "#predict training F1 score\n",
    "train_f1_score = predict_labels(clf, X_train, y_train)\n",
    "print (\"F1 score for training set: {}\".format(train_f1_score))"
   ]
  },
  {
   "cell_type": "code",
   "execution_count": 97,
   "metadata": {
    "collapsed": false
   },
   "outputs": [
    {
     "name": "stdout",
     "output_type": "stream",
     "text": [
      "The training size is 100.\n",
      "Training KNeighborsClassifier...\n",
      "Done!\n",
      "Training time (secs): 0.001\n",
      "Predicting labels for Training Set using KNeighborsClassifier...\n",
      "Done!\n",
      "Prediction time for Training Set (secs): 0.004\n",
      "Predicting labels for Testing Set using KNeighborsClassifier...\n",
      "Done!\n",
      "Prediction time for Testing Set (secs): 0.005\n",
      "Fl score for training data: 0.791946308725\n",
      "F1 score for test data: 0.802721088435\n",
      "\n",
      "The training size is 200.\n",
      "Training KNeighborsClassifier...\n",
      "Done!\n",
      "Training time (secs): 0.002\n",
      "Predicting labels for Training Set using KNeighborsClassifier...\n",
      "Done!\n",
      "Prediction time for Training Set (secs): 0.013\n",
      "Predicting labels for Testing Set using KNeighborsClassifier...\n",
      "Done!\n",
      "Prediction time for Testing Set (secs): 0.007\n",
      "Fl score for training data: 0.884615384615\n",
      "F1 score for test data: 0.769230769231\n",
      "\n",
      "The training size is 300.\n",
      "Training KNeighborsClassifier...\n",
      "Done!\n",
      "Training time (secs): 0.003\n",
      "Predicting labels for Training Set using KNeighborsClassifier...\n",
      "Done!\n",
      "Prediction time for Training Set (secs): 0.026\n",
      "Predicting labels for Testing Set using KNeighborsClassifier...\n",
      "Done!\n",
      "Prediction time for Testing Set (secs): 0.009\n",
      "Fl score for training data: 0.862470862471\n",
      "F1 score for test data: 0.776978417266\n",
      "\n"
     ]
    }
   ],
   "source": [
    "#Repeat the process with SVM with different training sizes 100, 200, 300\n",
    "iterative_training_sizes(clf, [100, 200, 300])"
   ]
  },
  {
   "cell_type": "markdown",
   "metadata": {},
   "source": [
    "## 5. Choosing the Best Model\n",
    "\n",
    "- Based on the experiments you performed earlier, in 1-2 paragraphs explain to the board of supervisors what single model you chose as the best model. Which model is generally the most appropriate based on the available data, limited resources, cost, and performance?\n",
    "- In 1-2 paragraphs explain to the board of supervisors in layman's terms how the final model chosen is supposed to work (for example if you chose a Decision Tree or Support Vector Machine, how does it make a prediction).\n",
    "- Fine-tune the model. Use Gridsearch with at least one important parameter tuned and with at least 3 settings. Use the entire training set for this.\n",
    "- What is the model's final F<sub>1</sub> score?"
   ]
  },
  {
   "cell_type": "code",
   "execution_count": 26,
   "metadata": {
    "collapsed": false
   },
   "outputs": [
    {
     "name": "stdout",
     "output_type": "stream",
     "text": [
      "***** FINAL MODEL *****\n",
      "(GridSearchCV(cv=None, error_score='raise',\n",
      "       estimator=SVC(C=1.0, cache_size=200, class_weight=None, coef0=0.0,\n",
      "  decision_function_shape=None, degree=3, gamma='auto', kernel='rbf',\n",
      "  max_iter=-1, probability=False, random_state=None, shrinking=True,\n",
      "  tol=0.001, verbose=False),\n",
      "       fit_params={}, iid=True, n_jobs=1,\n",
      "       param_grid={'kernel': ['linear', 'rbf', 'poly', 'sigmoid']},\n",
      "       pre_dispatch='2*n_jobs', refit=True, scoring=make_scorer(f1_score),\n",
      "       verbose=0), '\\n')\n",
      "Best Kernel: {'kernel': 'rbf'}\n",
      "Best Score: 0.810706980477\n"
     ]
    }
   ],
   "source": [
    "# TODO: Fine-tune your model and report the best F1 score\n",
    "from sklearn.grid_search import GridSearchCV\n",
    "from sklearn.metrics import make_scorer\n",
    "\n",
    "classifier = svm.SVC()\n",
    "parameters = {'kernel': ['linear', 'rbf', 'poly', 'sigmoid']}\n",
    "scorer = make_scorer(f1_score) \n",
    "\n",
    "clf = GridSearchCV(classifier, parameters, scoring=scorer)\n",
    "clf.fit(X_train, y_train_binary)\n",
    "\n",
    "print (\"***** FINAL MODEL *****\")\n",
    "print (clf.fit(X_train, y_train_binary), '\\n')\n",
    "print (\"Best Kernel: {}\".format(clf.best_params_))\n",
    "print (\"Best Score: {}\".format(clf.best_score_))"
   ]
  },
  {
   "cell_type": "code",
   "execution_count": 21,
   "metadata": {
    "collapsed": false
   },
   "outputs": [
    {
     "name": "stdout",
     "output_type": "stream",
     "text": [
      "Training SVC...\n",
      "Done!\n",
      "Training time (secs): 0.028\n",
      "SVC(C=1.0, cache_size=200, class_weight=None, coef0=0.0,\n",
      "  decision_function_shape=None, degree=3, gamma='auto', kernel='rbf',\n",
      "  max_iter=-1, probability=False, random_state=None, shrinking=True,\n",
      "  tol=0.001, verbose=False)\n"
     ]
    }
   ],
   "source": [
    "#evaluate training/prediction time with the results from GridSearchCV\n",
    "clf = svm.SVC(kernel='rbf')\n",
    "\n",
    "# Fit model to training data\n",
    "train_classifier(clf, X_train, y_train)  # note: using entire training set here\n",
    "print (clf) "
   ]
  },
  {
   "cell_type": "code",
   "execution_count": 22,
   "metadata": {
    "collapsed": false
   },
   "outputs": [
    {
     "name": "stdout",
     "output_type": "stream",
     "text": [
      "Predicting labels for Training Set using SVC...\n",
      "Done!\n",
      "Prediction time for Training Set (secs): 0.021\n",
      "F1 score for training set: 0.857142857143\n"
     ]
    }
   ],
   "source": [
    "#predict training F1 score\n",
    "train_f1_score = predict_labels(clf, X_train, y_train)\n",
    "print (\"F1 score for training set: {}\".format(train_f1_score))"
   ]
  },
  {
   "cell_type": "code",
   "execution_count": 25,
   "metadata": {
    "collapsed": false
   },
   "outputs": [
    {
     "name": "stdout",
     "output_type": "stream",
     "text": [
      "The training size is 100.\n",
      "Training SVC...\n",
      "Done!\n",
      "Training time (secs): 0.004\n",
      "Predicting labels for Training Set using SVC...\n",
      "Done!\n",
      "Prediction time for Training Set (secs): 0.002\n",
      "Predicting labels for Testing Set using SVC...\n",
      "Done!\n",
      "Prediction time for Testing Set (secs): 0.003\n",
      "Fl score for training data: 0.915492957746\n",
      "F1 score for test data: 0.855263157895\n",
      "\n",
      "The training size is 200.\n",
      "Training SVC...\n",
      "Done!\n",
      "Training time (secs): 0.013\n",
      "Predicting labels for Training Set using SVC...\n",
      "Done!\n",
      "Prediction time for Training Set (secs): 0.009\n",
      "Predicting labels for Testing Set using SVC...\n",
      "Done!\n",
      "Prediction time for Testing Set (secs): 0.005\n",
      "Fl score for training data: 0.877887788779\n",
      "F1 score for test data: 0.82119205298\n",
      "\n",
      "The training size is 300.\n",
      "Training SVC...\n",
      "Done!\n",
      "Training time (secs): 0.028\n",
      "Predicting labels for Training Set using SVC...\n",
      "Done!\n",
      "Prediction time for Training Set (secs): 0.022\n",
      "Predicting labels for Testing Set using SVC...\n",
      "Done!\n",
      "Prediction time for Testing Set (secs): 0.006\n",
      "Fl score for training data: 0.872881355932\n",
      "F1 score for test data: 0.763888888889\n",
      "\n"
     ]
    }
   ],
   "source": [
    "#Repeat the process with SVM with different training sizes 100, 200, 300\n",
    "iterative_training_sizes(clf, [100, 200, 300])"
   ]
  }
 ],
 "metadata": {
  "kernelspec": {
   "display_name": "Python 2",
   "language": "python",
   "name": "python2"
  },
  "language_info": {
   "codemirror_mode": {
    "name": "ipython",
    "version": 2
   },
   "file_extension": ".py",
   "mimetype": "text/x-python",
   "name": "python",
   "nbconvert_exporter": "python",
   "pygments_lexer": "ipython2",
   "version": "2.7.11"
  }
 },
 "nbformat": 4,
 "nbformat_minor": 0
}
